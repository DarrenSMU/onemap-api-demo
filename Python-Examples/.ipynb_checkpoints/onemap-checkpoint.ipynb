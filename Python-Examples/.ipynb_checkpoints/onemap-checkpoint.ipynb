{
 "cells": [
  {
   "cell_type": "markdown",
   "metadata": {},
   "source": [
    "## Content\n",
    "\n",
    "1. importing required libraries\n",
    "2. Calling Onemap's tile service API using the leaflet package\n",
    "3. Calling Onemap's tile service API using the leaflet package (Web Map Tile Service)\n",
    "4. EPSG coordinate conversion\n",
    "5. Search"
   ]
  },
  {
   "cell_type": "markdown",
   "metadata": {},
   "source": [
    "## Imports\n",
    "\n",
    "* ipyleaflet -> leaflet package for python\n",
    "* owslib -> WMS development package\n",
    "* traitlets -> to include custom parameters to owslib code\n",
    "* requests -> to ingest onemap's rest api"
   ]
  },
  {
   "cell_type": "code",
   "execution_count": 31,
   "metadata": {},
   "outputs": [],
   "source": [
    "from ipyleaflet import Map, basemaps, TileLayer, basemap_to_tiles, WMSLayer, Heatmap, Marker, projections\n",
    "from owslib.wms import WebMapService, Authentication\n",
    "from traitlets import Bool, Unicode\n",
    "import requests   "
   ]
  },
  {
   "cell_type": "markdown",
   "metadata": {},
   "source": [
    "## Calling Onemap's tile service API using the leaflet package (openlayers)\n",
    "\n",
    "1. View the available map options at https://www.onemap.gov.sg/docs/maps/ You can choose between:\n",
    " -\thttps://maps-a.onemap.sg/v3/Default/z/x/y.png\n",
    " -  https://maps-b.onemap.sg/v3/Default/z/x/y.png\n",
    " -  https://maps-c.onemap.sg/v3/Default/z/x/y.png\n",
    "2. Choose the tiled map service you want to use. In this case, https://maps-a.onemap.sg/v3/Default/${z}/${x}/${y}.png\n",
    "3. Instantiate a leaflet widget and add on the tiled map service using the addTiles function"
   ]
  },
  {
   "cell_type": "code",
   "execution_count": 32,
   "metadata": {},
   "outputs": [
    {
     "data": {
      "application/vnd.jupyter.widget-view+json": {
       "model_id": "2c9bc6fae2d14d5a82e6f89cbcfeb000",
       "version_major": 2,
       "version_minor": 0
      },
      "text/plain": [
       "Map(center=[1.36, 103.8], controls=(ZoomControl(options=['position', 'zoom_in_text', 'zoom_in_title', 'zoom_ou…"
      ]
     },
     "metadata": {},
     "output_type": "display_data"
    }
   ],
   "source": [
    "url = \"https://maps-a.onemap.sg/v3/Default/{z}/{x}/{y}.png\"\n",
    "provider = TileLayer(url=url, opacity=1)\n",
    "m = Map(default_tiles=provider, center=(1.36,103.80), zoom=12)\n",
    "m.add_layer(provider)\n",
    "m.layout.height = '800px'\n",
    "m"
   ]
  },
  {
   "cell_type": "markdown",
   "metadata": {},
   "source": [
    "## Calling Onemap's tile service API using the leaflet package (Web Map Tile Service)\n",
    "\n",
    "1. View the available map options at https://www.onemap.gov.sg/docs/maps/\n",
    "2. Investigate the Get Capabilities XML file at http://mapservices.onemap.sg/mapproxy/wmts/1.0.0/WMTSCapabilities.xml\n",
    "3. Choose and form the URL of the WMTS you want to use using the template found in the xml file ie.\n",
    " - https://mapservices.onemap.sg/mapproxy/wmts/singapore_landlot_wmts/EPSG3857/{z}/{x}/{y}.png\n",
    " - https://mapservices.onemap.sg/mapproxy/wmts/Night/EPSG3857/{z}/{x}/{y}.png\n",
    "4. Instantiate a leaflet widget and add on the tiled map service using the addTiles function\n"
   ]
  },
  {
   "cell_type": "code",
   "execution_count": 33,
   "metadata": {},
   "outputs": [
    {
     "data": {
      "application/vnd.jupyter.widget-view+json": {
       "model_id": "a835646b2afd478e822239ff8c7a88c4",
       "version_major": 2,
       "version_minor": 0
      },
      "text/plain": [
       "Map(center=[60.36, -60], controls=(ZoomControl(options=['position', 'zoom_in_text', 'zoom_in_title', 'zoom_out…"
      ]
     },
     "metadata": {},
     "output_type": "display_data"
    }
   ],
   "source": [
    "url = \"https://mapservices.onemap.sg/mapproxy/wmts/Night/EPSG3857/{z}/{x}/{y}.png\"\n",
    "provider = TileLayer(url=url, opacity=1)\n",
    "m = Map(default_tiles=provider, center=(60.36,-60), zoom=4)\n",
    "m.add_layer(provider)\n",
    "m.layout.height = '800px'\n",
    "m"
   ]
  },
  {
   "cell_type": "markdown",
   "metadata": {},
   "source": [
    "## Calling Onemap's coordinate conversion rest api\n",
    "\n",
    "1. Form the url request (https://www.onemap.gov.sg/docs/#4326-wgs84-to-3857) and use R Httr package to send a get request\n",
    "2. Receive the request in json format\n",
    "3. Assign x,y variables to a R array\n",
    "4. use the coordinates in your map"
   ]
  },
  {
   "cell_type": "code",
   "execution_count": 27,
   "metadata": {},
   "outputs": [
    {
     "data": {
      "application/vnd.jupyter.widget-view+json": {
       "model_id": "841b3e56f73e4a4bb994b054b224ba01",
       "version_major": 2,
       "version_minor": 0
      },
      "text/plain": [
       "Map(center=[1.36, 103.8], controls=(ZoomControl(options=['position', 'zoom_in_text', 'zoom_in_title', 'zoom_ou…"
      ]
     },
     "metadata": {},
     "output_type": "display_data"
    }
   ],
   "source": [
    "response = requests.get('https://developers.onemap.sg/commonapi/convert/3414to4326?X=28983.788791079794&Y=33554.5098132845') \n",
    "\n",
    "json_response = response.json()\n",
    "\n",
    "\n",
    "lat = json_response['latitude']\n",
    "long = json_response['longitude']\n",
    "\n",
    "marker = Marker(location=(lat,long), draggable=False)\n",
    "\n",
    "url = \"https://maps-a.onemap.sg/v3/Default/{z}/{x}/{y}.png\"\n",
    "provider = TileLayer(url=url, opacity=1)\n",
    "m = Map(default_tiles=provider, center=(1.36,103.80), zoom=12)\n",
    "m.add_layer(provider)\n",
    "m.add_layer(marker)\n",
    "m.layout.height = '800px'\n",
    "m"
   ]
  },
  {
   "cell_type": "markdown",
   "metadata": {},
   "source": [
    "## Calling Onemap's search rest api (Find tampines mall)\n",
    "\n",
    "1. Form the url request (https://www.onemap.gov.sg/docs/#4326-wgs84-to-3857) and use R Httr package to send a get request\n",
    "2. Receive the request in json format\n",
    "3. Understand the json format to get the info you want\n",
    "4. Assign lat,long variables to a R array\n",
    "5. Convert string to numeric\n",
    "6. use the coordinates in your map"
   ]
  },
  {
   "cell_type": "code",
   "execution_count": 34,
   "metadata": {},
   "outputs": [
    {
     "data": {
      "application/vnd.jupyter.widget-view+json": {
       "model_id": "c5711cfac3ce4e42bd49f94fccdc732d",
       "version_major": 2,
       "version_minor": 0
      },
      "text/plain": [
       "Map(center=[1.36, 103.8], controls=(ZoomControl(options=['position', 'zoom_in_text', 'zoom_in_title', 'zoom_ou…"
      ]
     },
     "metadata": {},
     "output_type": "display_data"
    }
   ],
   "source": [
    "response = requests.get('https://developers.onemap.sg/commonapi/search?searchVal=tampines%20mall&returnGeom=Y&getAddrDetails=Y&pageNum=1') \n",
    "\n",
    "json_response = response.json()\n",
    "\n",
    "\n",
    "lat = json_response['results'][1]['LATITUDE']\n",
    "long = json_response['results'][1]['LONGITUDE']\n",
    "\n",
    "marker = Marker(location=(lat,long), draggable=False)\n",
    "\n",
    "url = \"https://maps-a.onemap.sg/v3/Default/{z}/{x}/{y}.png\"\n",
    "provider = TileLayer(url=url, opacity=1)\n",
    "m = Map(default_tiles=provider, center=(1.36,103.80), zoom=12)\n",
    "m.add_layer(provider)\n",
    "m.add_layer(marker)\n",
    "m.layout.height = '800px'\n",
    "m"
   ]
  },
  {
   "cell_type": "code",
   "execution_count": null,
   "metadata": {},
   "outputs": [],
   "source": []
  }
 ],
 "metadata": {
  "kernelspec": {
   "display_name": "Python 3",
   "language": "python",
   "name": "python3"
  },
  "language_info": {
   "codemirror_mode": {
    "name": "ipython",
    "version": 3
   },
   "file_extension": ".py",
   "mimetype": "text/x-python",
   "name": "python",
   "nbconvert_exporter": "python",
   "pygments_lexer": "ipython3",
   "version": "3.8.5"
  }
 },
 "nbformat": 4,
 "nbformat_minor": 4
}
